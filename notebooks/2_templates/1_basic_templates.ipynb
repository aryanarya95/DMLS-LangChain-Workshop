{
 "cells": [
  {
   "cell_type": "markdown",
   "metadata": {},
   "source": [
    "# **LangChain Templating: Syntax and Examples**\n",
    "\n",
    "## **📌Overview**\n",
    "Templating allows for the dynamic generation of prompts by inserting variables into a structured format. \\\n",
    "This enables the creation of flexible and reusable prompts for different tasks.\n",
    "\n",
    "LangChain supports multiple **templating syntaxes**, including (but not limited to):\n",
    "\n",
    "- **Basic String Formatting (`{variable}`)**  \n",
    "- **Multiple Placeholders in a Single Template (`{var1}, {var2}`)**  \n",
    "- **Tuple-Based Formatting (`(\"system\", \"text {var}\")`)**  \n",
    "- **Using `HumanMessage` Objects (`HumanMessage(content=\"text\")`)**  "
   ]
  },
  {
   "cell_type": "code",
   "execution_count": 65,
   "metadata": {},
   "outputs": [
    {
     "name": "stdout",
     "output_type": "stream",
     "text": [
      "Note: you may need to restart the kernel to use updated packages.\n"
     ]
    }
   ],
   "source": [
    "# Install dependencies \n",
    "%pip install -q python-dotenv langchain-core langchain-google-genai langchain"
   ]
  },
  {
   "cell_type": "code",
   "execution_count": 66,
   "metadata": {},
   "outputs": [],
   "source": [
    "# from dotenv import load_dotenv\n",
    "from langchain_core.messages import HumanMessage\n",
    "from langchain_google_genai import ChatGoogleGenerativeAI\n",
    "from langchain.prompts import ChatPromptTemplate\n",
    "from langchain_core.messages import HumanMessage"
   ]
  },
  {
   "cell_type": "markdown",
   "metadata": {},
   "source": [
    "---\n",
    "\n",
    "## **Basic String Formatting**  \n",
    "\n",
    "Uses LangChain's built-in `{}` placeholders to dynamically insert values into prompts.  "
   ]
  },
  {
   "cell_type": "code",
   "execution_count": 67,
   "metadata": {},
   "outputs": [
    {
     "name": "stdout",
     "output_type": "stream",
     "text": [
      "messages=[HumanMessage(content='Tell me an interesting fact about black holes', additional_kwargs={}, response_metadata={})]\n"
     ]
    }
   ],
   "source": [
    "# Basic string \n",
    "template = \"Tell me an interesting fact about {object}\"\n",
    "prompt_template = ChatPromptTemplate.from_template(template)\n",
    "\n",
    "prompt = prompt_template.invoke({\"object\": \"black holes\"})\n",
    "print(prompt)"
   ]
  },
  {
   "cell_type": "markdown",
   "metadata": {},
   "source": [
    "## **Multiple Placeholders in a Single Template**  \n",
    "\n",
    "Supports multiple dynamic placeholders within a single prompt template.  "
   ]
  },
  {
   "cell_type": "code",
   "execution_count": 68,
   "metadata": {},
   "outputs": [
    {
     "name": "stdout",
     "output_type": "stream",
     "text": [
      "messages=[HumanMessage(content='You are a convincing essay writer.\\nHuman: Write an essay on why Gorillas are a reasonable pet to have in the household.\\nWriter:', additional_kwargs={}, response_metadata={})]\n",
      "## The Unexpectedly Reasonable Case for a Gorilla Companion\n",
      "\n",
      "The image conjured by the phrase \"gorilla as pet\" is likely one of chaotic destruction, a banana-fueled rampage through a suburban home.  However, a closer examination reveals that, with the proper resources, dedication, and perhaps a re-evaluation of our societal norms, keeping a gorilla as a household pet could be surprisingly reasonable – albeit a monumental undertaking.  This isn't a call to abandon responsible pet ownership, but rather a thought experiment challenging our preconceived notions of what constitutes a suitable companion animal.\n",
      "\n",
      "The primary objection, of course, is size and strength.  An adult gorilla possesses the power to easily dismantle a house, and its inherent wildness presents obvious safety concerns.  However, let's consider the parallel with other large, powerful animals we already accept as pets – horses, for instance.  Horses require extensive land, specialized care, and careful handling.  Similarly, a gorilla would necessitate a significant investment: a custom-built enclosure mimicking its natural habitat, a team of experienced handlers and veterinarians, and a commitment to a lifetime of specialized care exceeding that of any other pet.  The cost would be astronomical, acting as a natural filter, ensuring only the most dedicated and financially secure individuals would even consider this option.\n",
      "\n",
      "Furthermore, the argument against a gorilla's suitability rests on a faulty premise: the assumption that a gorilla's inherent wildness cannot be mitigated.  While complete domestication is impossible, decades of research in primate behavior and conservation have yielded significant progress in understanding gorilla psychology and social dynamics.  With early socialization and consistent, positive reinforcement training, a gorilla could potentially develop a strong bond with its human companions, exhibiting loyalty and affection akin to that of a highly intelligent dog. This, however, requires an incredibly skilled and patient owner, who understands the complexities of primate communication and behavior.\n",
      "\n",
      "Finally, the environmental impact of keeping a gorilla is a legitimate concern.  However, a well-managed, ethically sourced gorilla in a dedicated sanctuary-like enclosure could potentially contribute to conservation efforts.  Such an undertaking would necessitate strict adherence to ethical guidelines, including a commitment to protecting the gorilla's welfare above all else and ensuring the animal's genetic contribution to the wider gorilla population is carefully considered.\n",
      "\n",
      "In conclusion, while the idea of a pet gorilla remains unconventional, it is not inherently unreasonable.  The challenges are immense, requiring substantial resources, expertise, and a fundamental shift in our understanding of pet ownership.  However, with the appropriate level of commitment and a focus on the animal's well-being, the possibility of a harmonious co-existence between humans and gorillas, albeit on a highly exclusive scale, is not entirely beyond the realm of possibility.  It demands a paradigm shift in our thinking, but the potential rewards, both for the gorilla and its human companion, could be profound.\n"
     ]
    }
   ],
   "source": [
    "# Multiple placeholders\n",
    "template_multiple = \"\"\"You are a convincing essay writer.\n",
    "Human: Write an essay on why {subject} {position}.\n",
    "Writer:\"\"\"\n",
    "prompt_multiple = ChatPromptTemplate.from_template(template_multiple)\n",
    "\n",
    "prompt = prompt_multiple.invoke({\"subject\": \"Gorillas\", \"position\": \"are a reasonable pet to have in the household\"})\n",
    "print(prompt)\n",
    "llm = ChatGoogleGenerativeAI(model=\"gemini-1.5-flash\")\n",
    "result = llm.invoke(prompt)\n",
    "print(result.content)"
   ]
  },
  {
   "cell_type": "markdown",
   "metadata": {},
   "source": [
    "## **Tuple-Based Formatting**\n",
    "Uses tuples to format system and human messages (and ai) dynamically in multi-turn conversations."
   ]
  },
  {
   "cell_type": "code",
   "execution_count": 63,
   "metadata": {},
   "outputs": [
    {
     "name": "stdout",
     "output_type": "stream",
     "text": [
      "messages=[SystemMessage(content='You are a world travel expert who provides insights on Tokyo.', additional_kwargs={}, response_metadata={}), HumanMessage(content='What are the top food experiences in Tokyo?', additional_kwargs={}, response_metadata={})]\n",
      "messages=[SystemMessage(content=\"You are an expert in art. Your task is to explain concepts related to this field.\\n        If the concept is directly related to art, provide a simple explanation.\\n        If the concept is unrelated, respond with: 'I'm sorry, but neural networks is outside my expertise in art.'\", additional_kwargs={}, response_metadata={}), HumanMessage(content='Explain neural networks in simple terms.', additional_kwargs={}, response_metadata={}), AIMessage(content=\"Sure! Here's a breakdown of neural networks.\", additional_kwargs={}, response_metadata={})]\n"
     ]
    }
   ],
   "source": [
    "# Tuple-based formatting\n",
    "messages = [\n",
    "    (\"system\", \"You are a world travel expert who provides insights on {destination}.\"),\n",
    "    (\"human\", \"What are the top {activity} experiences in {destination}?\"),\n",
    "]\n",
    "prompt_template = ChatPromptTemplate.from_messages(messages)\n",
    "\n",
    "prompt = prompt_template.invoke({\"destination\": \"Tokyo\", \"activity\": \"food\"})\n",
    "print(prompt)\n",
    "# llm = ChatGoogleGenerativeAI(model=\"gemini-1.5-flash\")\n",
    "# result = llm.invoke(prompt)\n",
    "# print(result.content)\n",
    "\n",
    "# Extended tuple formatting\n",
    "messages = [\n",
    "     (\"system\", \"\"\"You are an expert in {field}. Your task is to explain concepts related to this field.\n",
    "        If the concept is directly related to {field}, provide a simple explanation.\n",
    "        If the concept is unrelated, respond with: 'I'm sorry, but {concept} is outside my expertise in {field}.'\"\"\"),\n",
    "    (\"human\", \"Explain {concept} in simple terms.\"),\n",
    "    (\"ai\", \"Sure! Here's a breakdown of {concept}.\")\n",
    "]\n",
    "prompt_template = ChatPromptTemplate.from_messages(messages)\n",
    "\n",
    "prompt = prompt_template.invoke({\"field\": \"art\", \"concept\": \"neural networks\"})\n",
    "print(prompt)\n",
    "# result = llm.invoke(prompt)\n",
    "# print(result.content)"
   ]
  },
  {
   "cell_type": "markdown",
   "metadata": {},
   "source": [
    "## **Using HumanMessage Objects**\n",
    "Allows structured human input messages within a LangChain chat prompt."
   ]
  },
  {
   "cell_type": "code",
   "execution_count": null,
   "metadata": {},
   "outputs": [
    {
     "name": "stdout",
     "output_type": "stream",
     "text": [
      "messages=[SystemMessage(content='You are a tour guide specializing in Halifax.', additional_kwargs={}, response_metadata={}), HumanMessage(content='Describe three must-visit places.', additional_kwargs={}, response_metadata={})]\n"
     ]
    }
   ],
   "source": [
    "# HumanMessage objects\n",
    "messages = [\n",
    "    (\"system\", \"You are a tour guide specializing in {location}.\"),\n",
    "    HumanMessage(content=\"Describe three must-visit places.\"),\n",
    "]\n",
    "prompt_template = ChatPromptTemplate.from_messages(messages)\n",
    "\n",
    "prompt = prompt_template.invoke({\"location\": \"Halifax\"})\n",
    "print(prompt)\n",
    "# llm = ChatGoogleGenerativeAI(model=\"gemini-1.5-flash\")\n",
    "# result = llm.invoke(prompt)\n",
    "# print(result.content)"
   ]
  }
 ],
 "metadata": {
  "kernelspec": {
   "display_name": ".venv",
   "language": "python",
   "name": "python3"
  },
  "language_info": {
   "codemirror_mode": {
    "name": "ipython",
    "version": 3
   },
   "file_extension": ".py",
   "mimetype": "text/x-python",
   "name": "python",
   "nbconvert_exporter": "python",
   "pygments_lexer": "ipython3",
   "version": "3.11.11"
  }
 },
 "nbformat": 4,
 "nbformat_minor": 2
}
