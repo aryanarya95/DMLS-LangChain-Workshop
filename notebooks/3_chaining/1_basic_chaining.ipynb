{
 "cells": [
  {
   "cell_type": "code",
   "execution_count": null,
   "metadata": {},
   "outputs": [],
   "source": [
    "# Install dependencies \n",
    "%pip install -r https://raw.githubusercontent.com/kaippatel/DMLS-LangChain-Workshop/master/requirements.txt"
   ]
  }
 ],
 "metadata": {
  "kernelspec": {
   "display_name": ".venv",
   "language": "python",
   "name": "python3"
  },
  "language_info": {
   "name": "python",
   "version": "3.11.11"
  }
 },
 "nbformat": 4,
 "nbformat_minor": 2
}
