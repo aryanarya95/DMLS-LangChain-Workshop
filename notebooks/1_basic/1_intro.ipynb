{
 "cells": [
  {
   "cell_type": "code",
   "execution_count": 27,
   "metadata": {},
   "outputs": [
    {
     "name": "stdout",
     "output_type": "stream",
     "text": [
      "Requirement already satisfied: annotated-types==0.7.0 in /home/kaipatel/dev/dmls-langchain-workshop/venv/lib/python3.10/site-packages (from -r ../../requirements.txt (line 1)) (0.7.0)\n",
      "Requirement already satisfied: anyio==4.8.0 in /home/kaipatel/dev/dmls-langchain-workshop/venv/lib/python3.10/site-packages (from -r ../../requirements.txt (line 2)) (4.8.0)\n",
      "Requirement already satisfied: cachetools==5.5.2 in /home/kaipatel/dev/dmls-langchain-workshop/venv/lib/python3.10/site-packages (from -r ../../requirements.txt (line 3)) (5.5.2)\n",
      "Requirement already satisfied: certifi==2025.1.31 in /home/kaipatel/dev/dmls-langchain-workshop/venv/lib/python3.10/site-packages (from -r ../../requirements.txt (line 4)) (2025.1.31)\n",
      "Requirement already satisfied: charset-normalizer==3.4.1 in /home/kaipatel/dev/dmls-langchain-workshop/venv/lib/python3.10/site-packages (from -r ../../requirements.txt (line 5)) (3.4.1)\n",
      "Requirement already satisfied: dotenv==0.9.9 in /home/kaipatel/dev/dmls-langchain-workshop/venv/lib/python3.10/site-packages (from -r ../../requirements.txt (line 6)) (0.9.9)\n",
      "Requirement already satisfied: exceptiongroup==1.2.2 in /home/kaipatel/dev/dmls-langchain-workshop/venv/lib/python3.10/site-packages (from -r ../../requirements.txt (line 7)) (1.2.2)\n",
      "Requirement already satisfied: filetype==1.2.0 in /home/kaipatel/dev/dmls-langchain-workshop/venv/lib/python3.10/site-packages (from -r ../../requirements.txt (line 8)) (1.2.0)\n",
      "Requirement already satisfied: google-ai-generativelanguage==0.6.16 in /home/kaipatel/dev/dmls-langchain-workshop/venv/lib/python3.10/site-packages (from -r ../../requirements.txt (line 9)) (0.6.16)\n",
      "Requirement already satisfied: google-api-core==2.24.2 in /home/kaipatel/dev/dmls-langchain-workshop/venv/lib/python3.10/site-packages (from -r ../../requirements.txt (line 10)) (2.24.2)\n",
      "Requirement already satisfied: google-auth==2.38.0 in /home/kaipatel/dev/dmls-langchain-workshop/venv/lib/python3.10/site-packages (from -r ../../requirements.txt (line 11)) (2.38.0)\n",
      "Requirement already satisfied: googleapis-common-protos==1.69.1 in /home/kaipatel/dev/dmls-langchain-workshop/venv/lib/python3.10/site-packages (from -r ../../requirements.txt (line 12)) (1.69.1)\n",
      "Requirement already satisfied: grpcio==1.71.0 in /home/kaipatel/dev/dmls-langchain-workshop/venv/lib/python3.10/site-packages (from -r ../../requirements.txt (line 13)) (1.71.0)\n",
      "Requirement already satisfied: grpcio-status==1.71.0 in /home/kaipatel/dev/dmls-langchain-workshop/venv/lib/python3.10/site-packages (from -r ../../requirements.txt (line 14)) (1.71.0)\n",
      "Requirement already satisfied: h11==0.14.0 in /home/kaipatel/dev/dmls-langchain-workshop/venv/lib/python3.10/site-packages (from -r ../../requirements.txt (line 15)) (0.14.0)\n",
      "Requirement already satisfied: httpcore==1.0.7 in /home/kaipatel/dev/dmls-langchain-workshop/venv/lib/python3.10/site-packages (from -r ../../requirements.txt (line 16)) (1.0.7)\n",
      "Requirement already satisfied: httpx==0.28.1 in /home/kaipatel/dev/dmls-langchain-workshop/venv/lib/python3.10/site-packages (from -r ../../requirements.txt (line 17)) (0.28.1)\n",
      "Requirement already satisfied: idna==3.10 in /home/kaipatel/dev/dmls-langchain-workshop/venv/lib/python3.10/site-packages (from -r ../../requirements.txt (line 18)) (3.10)\n",
      "Requirement already satisfied: jsonpatch==1.33 in /home/kaipatel/dev/dmls-langchain-workshop/venv/lib/python3.10/site-packages (from -r ../../requirements.txt (line 19)) (1.33)\n",
      "Requirement already satisfied: jsonpointer==3.0.0 in /home/kaipatel/dev/dmls-langchain-workshop/venv/lib/python3.10/site-packages (from -r ../../requirements.txt (line 20)) (3.0.0)\n",
      "Requirement already satisfied: langchain-core==0.3.44 in /home/kaipatel/dev/dmls-langchain-workshop/venv/lib/python3.10/site-packages (from -r ../../requirements.txt (line 21)) (0.3.44)\n",
      "Requirement already satisfied: langchain-google-genai==2.1.0 in /home/kaipatel/dev/dmls-langchain-workshop/venv/lib/python3.10/site-packages (from -r ../../requirements.txt (line 22)) (2.1.0)\n",
      "Requirement already satisfied: langsmith==0.3.13 in /home/kaipatel/dev/dmls-langchain-workshop/venv/lib/python3.10/site-packages (from -r ../../requirements.txt (line 23)) (0.3.13)\n",
      "Requirement already satisfied: orjson==3.10.15 in /home/kaipatel/dev/dmls-langchain-workshop/venv/lib/python3.10/site-packages (from -r ../../requirements.txt (line 24)) (3.10.15)\n",
      "Requirement already satisfied: packaging==24.2 in /home/kaipatel/dev/dmls-langchain-workshop/venv/lib/python3.10/site-packages (from -r ../../requirements.txt (line 25)) (24.2)\n",
      "Requirement already satisfied: proto-plus==1.26.1 in /home/kaipatel/dev/dmls-langchain-workshop/venv/lib/python3.10/site-packages (from -r ../../requirements.txt (line 26)) (1.26.1)\n",
      "Requirement already satisfied: protobuf==5.29.3 in /home/kaipatel/dev/dmls-langchain-workshop/venv/lib/python3.10/site-packages (from -r ../../requirements.txt (line 27)) (5.29.3)\n",
      "Requirement already satisfied: pyasn1==0.6.1 in /home/kaipatel/dev/dmls-langchain-workshop/venv/lib/python3.10/site-packages (from -r ../../requirements.txt (line 28)) (0.6.1)\n",
      "Requirement already satisfied: pyasn1_modules==0.4.1 in /home/kaipatel/dev/dmls-langchain-workshop/venv/lib/python3.10/site-packages (from -r ../../requirements.txt (line 29)) (0.4.1)\n",
      "Requirement already satisfied: pydantic==2.10.6 in /home/kaipatel/dev/dmls-langchain-workshop/venv/lib/python3.10/site-packages (from -r ../../requirements.txt (line 30)) (2.10.6)\n",
      "Requirement already satisfied: pydantic_core==2.27.2 in /home/kaipatel/dev/dmls-langchain-workshop/venv/lib/python3.10/site-packages (from -r ../../requirements.txt (line 31)) (2.27.2)\n",
      "Requirement already satisfied: python-dotenv==1.0.1 in /home/kaipatel/dev/dmls-langchain-workshop/venv/lib/python3.10/site-packages (from -r ../../requirements.txt (line 32)) (1.0.1)\n",
      "Requirement already satisfied: PyYAML==6.0.2 in /home/kaipatel/dev/dmls-langchain-workshop/venv/lib/python3.10/site-packages (from -r ../../requirements.txt (line 33)) (6.0.2)\n",
      "Requirement already satisfied: requests==2.32.3 in /home/kaipatel/dev/dmls-langchain-workshop/venv/lib/python3.10/site-packages (from -r ../../requirements.txt (line 34)) (2.32.3)\n",
      "Requirement already satisfied: requests-toolbelt==1.0.0 in /home/kaipatel/dev/dmls-langchain-workshop/venv/lib/python3.10/site-packages (from -r ../../requirements.txt (line 35)) (1.0.0)\n",
      "Requirement already satisfied: rsa==4.9 in /home/kaipatel/dev/dmls-langchain-workshop/venv/lib/python3.10/site-packages (from -r ../../requirements.txt (line 36)) (4.9)\n",
      "Requirement already satisfied: sniffio==1.3.1 in /home/kaipatel/dev/dmls-langchain-workshop/venv/lib/python3.10/site-packages (from -r ../../requirements.txt (line 37)) (1.3.1)\n",
      "Requirement already satisfied: tenacity==9.0.0 in /home/kaipatel/dev/dmls-langchain-workshop/venv/lib/python3.10/site-packages (from -r ../../requirements.txt (line 38)) (9.0.0)\n",
      "Requirement already satisfied: typing_extensions==4.12.2 in /home/kaipatel/dev/dmls-langchain-workshop/venv/lib/python3.10/site-packages (from -r ../../requirements.txt (line 39)) (4.12.2)\n",
      "Requirement already satisfied: urllib3==2.3.0 in /home/kaipatel/dev/dmls-langchain-workshop/venv/lib/python3.10/site-packages (from -r ../../requirements.txt (line 40)) (2.3.0)\n",
      "Requirement already satisfied: zstandard==0.23.0 in /home/kaipatel/dev/dmls-langchain-workshop/venv/lib/python3.10/site-packages (from -r ../../requirements.txt (line 41)) (0.23.0)\n",
      "Note: you may need to restart the kernel to use updated packages.\n"
     ]
    }
   ],
   "source": [
    "# Install dependencies \n",
    "%pip install -r ../../requirements.txt"
   ]
  },
  {
   "cell_type": "code",
   "execution_count": 26,
   "metadata": {},
   "outputs": [],
   "source": [
    "from dotenv import load_dotenv\n",
    "from langchain_google_genai import ChatGoogleGenerativeAI"
   ]
  },
  {
   "cell_type": "code",
   "execution_count": 17,
   "metadata": {},
   "outputs": [
    {
     "data": {
      "text/plain": [
       "True"
      ]
     },
     "execution_count": 17,
     "metadata": {},
     "output_type": "execute_result"
    }
   ],
   "source": [
    "# Load environment variables \n",
    "load_dotenv()"
   ]
  },
  {
   "cell_type": "code",
   "execution_count": null,
   "metadata": {},
   "outputs": [],
   "source": [
    "# Instantiate Gemini model\n",
    "llm = ChatGoogleGenerativeAI(model=\"gemini-1.5-pro\")"
   ]
  },
  {
   "cell_type": "code",
   "execution_count": 25,
   "metadata": {},
   "outputs": [
    {
     "name": "stdout",
     "output_type": "stream",
     "text": [
      "Full result: content='Hello back!  How can I help you today?' additional_kwargs={} response_metadata={'prompt_feedback': {'block_reason': 0, 'safety_ratings': []}, 'finish_reason': 'STOP', 'safety_ratings': []} id='run-557b9f53-a584-449e-90db-66a5bc2b63f4-0' usage_metadata={'input_tokens': 3, 'output_tokens': 12, 'total_tokens': 15, 'input_token_details': {'cache_read': 0}}\n",
      "Content: \n",
      "Hello back!  How can I help you today?\n"
     ]
    }
   ],
   "source": [
    "# In langchain, once we instantiate the model, we must invoke the model with a prompt\n",
    "result = llm.invoke(\"Hello World!\")\n",
    "print(f\"Full result: {result}\")\n",
    "print(f\"Content: \\n{result.content}\")"
   ]
  }
 ],
 "metadata": {
  "kernelspec": {
   "display_name": "venv",
   "language": "python",
   "name": "python3"
  },
  "language_info": {
   "codemirror_mode": {
    "name": "ipython",
    "version": 3
   },
   "file_extension": ".py",
   "mimetype": "text/x-python",
   "name": "python",
   "nbconvert_exporter": "python",
   "pygments_lexer": "ipython3",
   "version": "3.10.12"
  }
 },
 "nbformat": 4,
 "nbformat_minor": 2
}
