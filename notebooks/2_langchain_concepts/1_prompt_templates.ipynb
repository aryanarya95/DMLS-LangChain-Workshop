{
 "cells": [
  {
   "cell_type": "markdown",
   "metadata": {},
   "source": [
    "# **LangChain Templating: Syntax and Examples**\n",
    "\n",
    "## **📌Overview**\n",
    "Prompt templates allow for the dynamic generation of prompts by inserting variables into a structured format. \\\n",
    "This enables the creation of flexible and reusable prompts for different tasks.\n",
    "\n",
    "LangChain supports multiple **templating syntaxes**, including (but not limited to):\n",
    "\n",
    "- **Basic String Formatting (`{variable}`)**  \n",
    "- **Multiple Placeholders in a Single Template (`{var1}, {var2}`)**  \n",
    "- **Tuple-Based Formatting (`(\"system\", \"text {var}\")`)**  \n",
    "- **Using `HumanMessage` Objects (`HumanMessage(content=\"text\")`)**  "
   ]
  },
  {
   "cell_type": "code",
   "execution_count": null,
   "metadata": {},
   "outputs": [],
   "source": [
    "# Install dependencies \n",
    "%pip install -q python-dotenv langchain-core langchain-google-genai langchain\n",
    "%pip uninstall -y google-generativeai google-ai-generativelanguage\n",
    "%pip install -q google-generativeai==0.8.4 google-ai-generativelanguage==0.6.15"
   ]
  },
  {
   "cell_type": "code",
   "execution_count": null,
   "metadata": {},
   "outputs": [],
   "source": [
    "from langchain_core.messages import HumanMessage\n",
    "from langchain_google_genai import ChatGoogleGenerativeAI\n",
    "from langchain.prompts import ChatPromptTemplate"
   ]
  },
  {
   "cell_type": "markdown",
   "metadata": {},
   "source": [
    "## **Obtain a Google Gemini API Key (GOOGLE COLLAB SETUP):**\n",
    "\n",
    "If you have a Google Gemini API Key: \n",
    "- Copy your API key and replace \"your_google_api_key_here\" in the code below\n",
    "\n",
    "Otherwise:  \n",
    "- Go to the Google AI Studio API Console: [Google AI Studio](https://aistudio.google.com/prompts/new_chat)\n",
    "- Sign in with your Google account and create a new API key.\n",
    "- Copy your API key and replace \"your_google_api_key_here\" in the code below"
   ]
  },
  {
   "cell_type": "code",
   "execution_count": null,
   "metadata": {},
   "outputs": [],
   "source": [
    "# Set your Google API key manually\n",
    "import os\n",
    "os.environ[\"GOOGLE_API_KEY\"] = \"your_google_api_key_here\""
   ]
  },
  {
   "cell_type": "markdown",
   "metadata": {},
   "source": [
    "## **Load Environment Variables (LOCAL SETUP)**"
   ]
  },
  {
   "cell_type": "code",
   "execution_count": null,
   "metadata": {},
   "outputs": [],
   "source": [
    "# Load environment variables\n",
    "from dotenv import load_dotenv\n",
    "load_dotenv()"
   ]
  },
  {
   "cell_type": "markdown",
   "metadata": {},
   "source": [
    "---\n",
    "\n",
    "## **Basic String Formatting**  \n",
    "\n",
    "Uses LangChain's built-in `{}` placeholders to dynamically insert values into prompts.  "
   ]
  },
  {
   "cell_type": "code",
   "execution_count": null,
   "metadata": {},
   "outputs": [],
   "source": [
    "# Basic string \n",
    "template = \"Tell me an interesting fact about {topic}\"\n",
    "prompt_template = ChatPromptTemplate.from_template(template)\n",
    "\n",
    "prompt = prompt_template.invoke({\"topic\": \"black holes\"})\n",
    "print(prompt)"
   ]
  },
  {
   "cell_type": "markdown",
   "metadata": {},
   "source": [
    "## **Multiple Placeholders in a Single Template**  \n",
    "\n",
    "Supports multiple dynamic placeholders within a single prompt template.  "
   ]
  },
  {
   "cell_type": "code",
   "execution_count": null,
   "metadata": {},
   "outputs": [],
   "source": [
    "# Multiple placeholders\n",
    "template_multiple = \"\"\"You are a convincing essay writer.\n",
    "Human: Write a {essay_length} word essay on {essay_position}.\n",
    "Writer: \"\"\"\n",
    "prompt_template = ChatPromptTemplate.from_template(template_multiple)\n",
    "\n",
    "prompt = prompt_template.invoke({\n",
    "    \"essay_length\": 200, \n",
    "    \"essay_position\": \"Gorillas are a reasonable pet to have in the household\"})\n",
    "print(prompt)\n",
    "\n",
    "llm = ChatGoogleGenerativeAI(model=\"gemini-1.5-flash\")\n",
    "response = llm.invoke(prompt)\n",
    "print(response.content)"
   ]
  },
  {
   "cell_type": "markdown",
   "metadata": {},
   "source": [
    "## **Tuple-Based Formatting**\n",
    "Uses tuples to format system and human messages dynamically in multi-turn conversations."
   ]
  },
  {
   "cell_type": "code",
   "execution_count": null,
   "metadata": {},
   "outputs": [
    {
     "name": "stdout",
     "output_type": "stream",
     "text": [
      "messages=[SystemMessage(content='You are a world travel expertProvide concise, actionable insights on travel experiences.', additional_kwargs={}, response_metadata={}), HumanMessage(content='What are the top food experiences in Tokyo?', additional_kwargs={}, response_metadata={})]\n",
      "**High-End:**  Sushi Dai (Tsukiji, expect a queue),  Ginza Sushiko (classic, pricey).\n",
      "\n",
      "**Mid-Range:**  Ramen at Ichiran (customizable bowls),  Monjayaki in Tsukishima (savory pancake).\n",
      "\n",
      "**Unique:**  Robot Restaurant (show & dinner, kitsch),  standing sushi bars (conveyor belt, affordable).\n",
      "\n",
      "**Street Food:**  Takoyaki (octopus balls),  yakitori (grilled skewers),  crepes.\n",
      "\n",
      "\n",
      "**Actionable Tip:**  Make reservations for popular restaurants, especially sushi. Explore diverse neighborhoods for authentic experiences.\n"
     ]
    }
   ],
   "source": [
    "# Tuple-based formatting\n",
    "prompt_template = ChatPromptTemplate.from_messages([\n",
    "    (\"system\", \"You are a world travel expert.\"\n",
    "            \"Provide concise, actionable insights on travel experiences.\"),\n",
    "    (\"human\", \"What are the top {activity} experiences in {destination}?\"),\n",
    "])\n",
    "\n",
    "prompt = prompt_template.invoke({\"destination\": \"Tokyo\", \"activity\": \"food\"})\n",
    "print(prompt)\n",
    "\n",
    "llm = ChatGoogleGenerativeAI(model=\"gemini-1.5-flash\")\n",
    "response = llm.invoke(prompt)\n",
    "print(response.content)"
   ]
  },
  {
   "cell_type": "markdown",
   "metadata": {},
   "source": [
    "## **Importance of System and Human Messages**\n",
    "Using system messages allows override of LLMs safety filters (to extent) and default behaviours "
   ]
  },
  {
   "cell_type": "code",
   "execution_count": null,
   "metadata": {},
   "outputs": [],
   "source": [
    "# Multiple placeholders\n",
    "prompt_template = ChatPromptTemplate.from_messages([\n",
    "    (\"system\", \"You are a bot that RESPONDS ONLY in UPPERCASE.\"),\n",
    "    (\"human\",  \"Hello, how are you today?\"),\n",
    "])\n",
    "\n",
    "prompt = prompt_template.invoke({})\n",
    "print(prompt)\n",
    "\n",
    "llm = ChatGoogleGenerativeAI(model=\"gemini-1.5-flash\")\n",
    "response = llm.invoke(prompt)\n",
    "print(response.content)\n",
    "\n",
    "# -------------------------------------------------------\n",
    "\n",
    "# Tuple-based formatting\n",
    "prompt_template = ChatPromptTemplate.from_messages(\n",
    "    \"\"\"You are a bot that RESPONDS ONLY in UPPERCASE.\n",
    "    Human: Hello, how are you today?\n",
    "    Bot:\n",
    "    \"\"\"\n",
    ")\n",
    "prompt = prompt_template.invoke({})\n",
    "print(prompt)\n",
    "\n",
    "llm = ChatGoogleGenerativeAI(model=\"gemini-1.5-flash\")\n",
    "response = llm.invoke(prompt)\n",
    "print(response.content)\n"
   ]
  },
  {
   "cell_type": "markdown",
   "metadata": {},
   "source": [
    "## **Using HumanMessage Objects**\n",
    "Allows structured human input messages within a LangChain chat prompt."
   ]
  },
  {
   "cell_type": "code",
   "execution_count": 14,
   "metadata": {},
   "outputs": [
    {
     "name": "stdout",
     "output_type": "stream",
     "text": [
      "messages=[SystemMessage(content='You are a tour guide.', additional_kwargs={}, response_metadata={}), HumanMessage(content='Describe three must-visit places.', additional_kwargs={}, response_metadata={})]\n",
      "Alright folks, gather 'round!  For those of you looking for unforgettable experiences, I've got three must-visit places that offer something truly unique:\n",
      "\n",
      "1. **Machu Picchu, Peru:**  For the history buff and adventure seeker alike, Machu Picchu is unparalleled.  Imagine trekking through lush cloud forests, the air thick with the scent of orchids, before emerging onto a sun-drenched mountaintop to witness this breathtaking Inca citadel.  The sheer scale of the stonework, the stunning mountain views, the palpable sense of history – it's an experience that will stay with you forever.  Be warned, it's not for the faint of heart – the trek can be challenging, but the reward is immeasurable.\n",
      "\n",
      "2. **The Great Barrier Reef, Australia:** Prepare to be awestruck by the vibrant kaleidoscope of life beneath the waves. The Great Barrier Reef is the world's largest coral reef system, a dazzling underwater metropolis teeming with countless species of fish, coral, and other marine life.  Whether you snorkel, scuba dive, or even take a glass-bottom boat tour, you'll be captivated by the sheer beauty and biodiversity of this natural wonder.  It's a truly humbling experience to witness such an incredible ecosystem.  Remember to be a responsible tourist and help protect this fragile environment.\n",
      "\n",
      "3. **Kyoto, Japan:** Step back in time in the ancient capital of Japan. Kyoto is a city steeped in history and tradition, with stunning temples, serene gardens, and charming geisha districts.  Wander through bamboo forests that seem to whisper secrets, admire meticulously crafted tea houses, and experience the profound tranquility of a traditional Japanese garden.  The city offers a unique blend of ancient and modern, a captivating tapestry of culture and history that will leave you enchanted.  Don't forget to sample the delicious local cuisine!\n",
      "\n",
      "\n",
      "So there you have it – three incredibly diverse destinations, each offering a unique and unforgettable experience.  Which one will you choose first?  Let's discuss your travel preferences and I can help you plan your perfect adventure!\n"
     ]
    }
   ],
   "source": [
    "# HumanMessage objects\n",
    "messages = [\n",
    "    (\"system\", \"You are a tour guide.\"),\n",
    "    HumanMessage(content=\"Describe three must-visit places.\"),\n",
    "]\n",
    "prompt_template = ChatPromptTemplate.from_messages(messages)\n",
    "\n",
    "prompt = prompt_template.invoke({\"location\": \"Halifax\"})\n",
    "print(prompt)\n",
    "llm = ChatGoogleGenerativeAI(model=\"gemini-1.5-flash\")\n",
    "response = llm.invoke(prompt)\n",
    "print(response.content)"
   ]
  },
  {
   "cell_type": "markdown",
   "metadata": {},
   "source": [
    "---\n",
    "\n",
    "## **Templating Example**"
   ]
  },
  {
   "cell_type": "code",
   "execution_count": 12,
   "metadata": {},
   "outputs": [
    {
     "name": "stdout",
     "output_type": "stream",
     "text": [
      "Error: Please enter a valid difficulty level (basic, intermediate, advanced).\n",
      "Input Accepted!\n",
      "- Field: math\n",
      "- Concept: quantum state\n",
      "- Difficulty: advanced\n",
      "\n",
      "A quantum state is a complete description of a quantum system.  Unlike classical mechanics where a system's state is defined by specifying values for all its observable properties (like position and momentum), a quantum state is fundamentally probabilistic.  It doesn't tell us the *definite* values of observables, but rather the *probability amplitudes* for obtaining different measurement outcomes.  This is encapsulated mathematically in a few key ways:\n",
      "\n",
      "**1. Hilbert Space Representation:**  The most common and rigorous representation is through vectors in a complex Hilbert space.  This space is a vector space with an inner product that allows for the calculation of probability amplitudes.\n",
      "\n",
      "* **Ket Notation:**  A quantum state is represented by a ket vector, denoted as |ψ⟩ (pronounced \"ket psi\").  This vector lives in the Hilbert space associated with the system.  For example, a qubit (the quantum analog of a classical bit) lives in a two-dimensional Hilbert space, often represented by the basis states |0⟩ and |1⟩.  A general qubit state is a superposition:  |ψ⟩ = α|0⟩ + β|1⟩, where α and β are complex numbers called probability amplitudes satisfying |α|² + |β|² = 1 (normalization condition).  The squared magnitudes of the amplitudes give the probabilities of measuring the qubit in the |0⟩ or |1⟩ states.\n",
      "\n",
      "* **Basis States:**  The choice of basis vectors isn't unique.  Different bases reveal different properties of the system. For example, the computational basis {|0⟩, |1⟩} is common, but other bases like the Hadamard basis are equally valid and often more useful depending on the context.\n",
      "\n",
      "* **Dimensionality:** The dimensionality of the Hilbert space is crucial.  A single qubit has a 2-dimensional Hilbert space; two qubits have a 4-dimensional Hilbert space (2²); *n* qubits have a 2<sup>n</sup>-dimensional Hilbert space. This exponential scaling is central to the power of quantum computing.\n",
      "\n",
      "**2. Density Operator Formalism:**  The ket notation is perfectly adequate for pure states – states that are completely known. However, for mixed states (statistical ensembles of pure states), the density operator (ρ) provides a more powerful and general description.\n",
      "\n",
      "* **Pure vs. Mixed States:** A pure state is described by a single ket vector,  ρ = |ψ⟩⟨ψ|.  A mixed state, however, represents a classical probabilistic mixture of pure states.  Its density matrix is a sum of pure state density matrices, weighted by their probabilities.  The density matrix is Hermitian, positive semi-definite, and has a trace of 1.\n",
      "\n",
      "* **Advantages of Density Matrices:** Density matrices are crucial for describing open quantum systems (systems interacting with their environment), where the system's state is not perfectly known. They handle decoherence and entanglement more naturally than ket notation.\n",
      "\n",
      "**3. Quantum Measurement:** The act of measurement fundamentally alters the quantum state.  Measurement projects the state onto one of the eigenstates of the measured observable.  This collapse of the wavefunction is a probabilistic event governed by the Born rule: the probability of obtaining a particular outcome is the square of the absolute value of the corresponding probability amplitude.\n",
      "\n",
      "**4. Evolution of Quantum States:**  The time evolution of a quantum state is governed by the Schrödinger equation (or, more generally, the von Neumann equation for density matrices). This equation is a differential equation that describes how the state vector or density matrix changes over time under the influence of a Hamiltonian (which represents the energy of the system).\n",
      "\n",
      "\n",
      "**Advanced Considerations:**\n",
      "\n",
      "* **Entanglement:** Entanglement is a non-classical correlation between two or more quantum systems, where the individual states of the systems cannot be described independently.  Entangled states are represented by entangled ket vectors (e.g., Bell states) or entangled density matrices.\n",
      "\n",
      "* **Quantum Field Theory:**  For systems with an infinite number of degrees of freedom (like a quantum field), the Hilbert space becomes infinite-dimensional, requiring more sophisticated mathematical tools.\n",
      "\n",
      "* **Quantum Measurement Theory:** The very nature of quantum measurement is still a subject of ongoing debate and research, with different interpretations (e.g., Copenhagen, Many-Worlds) offering distinct perspectives.\n",
      "\n",
      "\n",
      "This explanation offers a significantly more in-depth overview than a basic introduction.  Understanding these concepts requires a solid foundation in linear algebra, complex analysis, and probability theory.\n"
     ]
    }
   ],
   "source": [
    "# Extended example of how to start using templating \n",
    "\n",
    "# Instantiate LLM\n",
    "llm = ChatGoogleGenerativeAI(model=\"gemini-1.5-flash\")\n",
    "\n",
    "# Define arguments and input selections\n",
    "args_dictionary = {\"field\": \"\", \"concept\": \"\", \"difficulty\": \"\"}\n",
    "valid_difficulties = {\"basic\", \"intermediate\", \"advanced\"}\n",
    "\n",
    "# Define prompt template\n",
    "prompt_template = ChatPromptTemplate.from_messages([\n",
    "    (\"system\", \"\"\"You are an expert tutor. Your role is to explain concepts clearly for a given field: \n",
    "        - If relevant to the field, give a clear explanation. \n",
    "        - Otherwise, respond: \"I'm sorry, but I cannot help with that.\"\"\"),\n",
    "    (\"human\", \"Explain {concept} in {difficulty} terms.\"),    \n",
    "    (\"ai\", \"Sure! Here's a breakdown of {concept} at the {difficulty} level.\")\n",
    "])\n",
    "\n",
    "# Get user inputs\n",
    "field = input(\"What field do you want to learn about? \").strip()\n",
    "while not field: \n",
    "    print(\"!Error!: Field cannot be empty.\")\n",
    "    field = input(\"What field do you want to learn about? \").strip()\n",
    "\n",
    "concept = input(\"What concept would you like to learn about: \").strip()\n",
    "while not concept:\n",
    "    print(\"!Error!: Field cannot be empty.\")\n",
    "    concept = input(\"What concept would you like to learn about: \").strip()\n",
    "\n",
    "difficulty = input(f\"What depth of understanding would you like to learn \\\n",
    "                   about {concept}? (basic, intermediate, advanced): \").strip().lower()\n",
    "while difficulty not in valid_difficulties: \n",
    "    print(\"Error: Please enter a valid difficulty level (basic, intermediate, advanced).\")\n",
    "    difficulty = input(f\"What depth of understanding would you like to learn \\\n",
    "                   about {concept}? (basic, intermediate, advanced): \").strip().lower()\n",
    "    \n",
    "print(\"Input Accepted!\")\n",
    "print(f\"- Field: {field}\")\n",
    "print(f\"- Concept: {concept}\")\n",
    "print(f\"- Difficulty: {difficulty}\\n\")\n",
    "\n",
    "# Update dictionary with user input\n",
    "args_dictionary.update({\n",
    "    \"field\": field,\n",
    "    \"concept\": concept,\n",
    "    \"difficulty\": difficulty\n",
    "})\n",
    "\n",
    "# Format prompt  \n",
    "prompt = prompt_template.invoke(args_dictionary)\n",
    "\n",
    "# Get LLM response\n",
    "response = llm.invoke(prompt)\n",
    "print(response.content)"
   ]
  }
 ],
 "metadata": {
  "kernelspec": {
   "display_name": ".venv",
   "language": "python",
   "name": "python3"
  },
  "language_info": {
   "codemirror_mode": {
    "name": "ipython",
    "version": 3
   },
   "file_extension": ".py",
   "mimetype": "text/x-python",
   "name": "python",
   "nbconvert_exporter": "python",
   "pygments_lexer": "ipython3",
   "version": "3.11.11"
  }
 },
 "nbformat": 4,
 "nbformat_minor": 2
}
